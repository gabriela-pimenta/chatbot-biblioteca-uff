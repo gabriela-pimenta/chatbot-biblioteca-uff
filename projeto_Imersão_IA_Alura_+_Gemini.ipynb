{
  "nbformat": 4,
  "nbformat_minor": 0,
  "metadata": {
    "colab": {
      "provenance": [],
      "authorship_tag": "ABX9TyMkC4EUHCW32uD3K35g11S8",
      "include_colab_link": true
    },
    "kernelspec": {
      "name": "python3",
      "display_name": "Python 3"
    },
    "language_info": {
      "name": "python"
    }
  },
  "cells": [
    {
      "cell_type": "markdown",
      "metadata": {
        "id": "view-in-github",
        "colab_type": "text"
      },
      "source": [
        "<a href=\"https://colab.research.google.com/github/gabriela-pimenta/chatbot-biblioteca-uff/blob/main/projeto_Imers%C3%A3o_IA_Alura_%2B_Gemini.ipynb\" target=\"_parent\"><img src=\"https://colab.research.google.com/assets/colab-badge.svg\" alt=\"Open In Colab\"/></a>"
      ]
    },
    {
      "cell_type": "code",
      "source": [
        "import getpass\n",
        "import google.generativeai as genai\n",
        "\n",
        "def configurar_api_key():\n",
        "  \"\"\"Solicita a API key do usuário e configura a biblioteca.\"\"\"\n",
        "  api_key = getpass.getpass(\"Por favor, insira sua API key do Google Gemini e pressione Enter:\")\n",
        "  genai.configure(api_key=api_key)\n",
        "  print(\"API key configurada com sucesso para esta sessão.\")\n",
        "\n",
        "# Chame a função para configurar a API key\n",
        "configurar_api_key()"
      ],
      "metadata": {
        "colab": {
          "base_uri": "https://localhost:8080/"
        },
        "id": "v5RzmNdOmWAe",
        "outputId": "455b95a5-dee7-4a41-e40c-9620f94d2e1c"
      },
      "execution_count": null,
      "outputs": [
        {
          "output_type": "stream",
          "name": "stdout",
          "text": [
            "Por favor, insira sua API key do Google Gemini e pressione Enter:··········\n",
            "API key configurada com sucesso para esta sessão.\n"
          ]
        }
      ]
    },
    {
      "cell_type": "code",
      "execution_count": null,
      "metadata": {
        "colab": {
          "base_uri": "https://localhost:8080/"
        },
        "id": "sR6_Bq7bNGkB",
        "outputId": "9195fe46-6e8b-4c11-a57c-925e6bfe6d3c"
      },
      "outputs": [
        {
          "output_type": "stream",
          "name": "stdout",
          "text": [
            "Requirement already satisfied: google-generativeai in /usr/local/lib/python3.11/dist-packages (0.8.5)\n",
            "Collecting pdfplumber\n",
            "  Downloading pdfplumber-0.11.6-py3-none-any.whl.metadata (42 kB)\n",
            "\u001b[2K     \u001b[90m━━━━━━━━━━━━━━━━━━━━━━━━━━━━━━━━━━━━━━━━\u001b[0m \u001b[32m42.8/42.8 kB\u001b[0m \u001b[31m1.4 MB/s\u001b[0m eta \u001b[36m0:00:00\u001b[0m\n",
            "\u001b[?25hRequirement already satisfied: google-ai-generativelanguage==0.6.15 in /usr/local/lib/python3.11/dist-packages (from google-generativeai) (0.6.15)\n",
            "Requirement already satisfied: google-api-core in /usr/local/lib/python3.11/dist-packages (from google-generativeai) (2.24.2)\n",
            "Requirement already satisfied: google-api-python-client in /usr/local/lib/python3.11/dist-packages (from google-generativeai) (2.169.0)\n",
            "Requirement already satisfied: google-auth>=2.15.0 in /usr/local/lib/python3.11/dist-packages (from google-generativeai) (2.38.0)\n",
            "Requirement already satisfied: protobuf in /usr/local/lib/python3.11/dist-packages (from google-generativeai) (5.29.4)\n",
            "Requirement already satisfied: pydantic in /usr/local/lib/python3.11/dist-packages (from google-generativeai) (2.11.4)\n",
            "Requirement already satisfied: tqdm in /usr/local/lib/python3.11/dist-packages (from google-generativeai) (4.67.1)\n",
            "Requirement already satisfied: typing-extensions in /usr/local/lib/python3.11/dist-packages (from google-generativeai) (4.13.2)\n",
            "Requirement already satisfied: proto-plus<2.0.0dev,>=1.22.3 in /usr/local/lib/python3.11/dist-packages (from google-ai-generativelanguage==0.6.15->google-generativeai) (1.26.1)\n",
            "Collecting pdfminer.six==20250327 (from pdfplumber)\n",
            "  Downloading pdfminer_six-20250327-py3-none-any.whl.metadata (4.1 kB)\n",
            "Requirement already satisfied: Pillow>=9.1 in /usr/local/lib/python3.11/dist-packages (from pdfplumber) (11.2.1)\n",
            "Collecting pypdfium2>=4.18.0 (from pdfplumber)\n",
            "  Downloading pypdfium2-4.30.1-py3-none-manylinux_2_17_x86_64.manylinux2014_x86_64.whl.metadata (48 kB)\n",
            "\u001b[2K     \u001b[90m━━━━━━━━━━━━━━━━━━━━━━━━━━━━━━━━━━━━━━━━\u001b[0m \u001b[32m48.2/48.2 kB\u001b[0m \u001b[31m1.5 MB/s\u001b[0m eta \u001b[36m0:00:00\u001b[0m\n",
            "\u001b[?25hRequirement already satisfied: charset-normalizer>=2.0.0 in /usr/local/lib/python3.11/dist-packages (from pdfminer.six==20250327->pdfplumber) (3.4.2)\n",
            "Requirement already satisfied: cryptography>=36.0.0 in /usr/local/lib/python3.11/dist-packages (from pdfminer.six==20250327->pdfplumber) (43.0.3)\n",
            "Requirement already satisfied: googleapis-common-protos<2.0.0,>=1.56.2 in /usr/local/lib/python3.11/dist-packages (from google-api-core->google-generativeai) (1.70.0)\n",
            "Requirement already satisfied: requests<3.0.0,>=2.18.0 in /usr/local/lib/python3.11/dist-packages (from google-api-core->google-generativeai) (2.32.3)\n",
            "Requirement already satisfied: cachetools<6.0,>=2.0.0 in /usr/local/lib/python3.11/dist-packages (from google-auth>=2.15.0->google-generativeai) (5.5.2)\n",
            "Requirement already satisfied: pyasn1-modules>=0.2.1 in /usr/local/lib/python3.11/dist-packages (from google-auth>=2.15.0->google-generativeai) (0.4.2)\n",
            "Requirement already satisfied: rsa<5,>=3.1.4 in /usr/local/lib/python3.11/dist-packages (from google-auth>=2.15.0->google-generativeai) (4.9.1)\n",
            "Requirement already satisfied: httplib2<1.0.0,>=0.19.0 in /usr/local/lib/python3.11/dist-packages (from google-api-python-client->google-generativeai) (0.22.0)\n",
            "Requirement already satisfied: google-auth-httplib2<1.0.0,>=0.2.0 in /usr/local/lib/python3.11/dist-packages (from google-api-python-client->google-generativeai) (0.2.0)\n",
            "Requirement already satisfied: uritemplate<5,>=3.0.1 in /usr/local/lib/python3.11/dist-packages (from google-api-python-client->google-generativeai) (4.1.1)\n",
            "Requirement already satisfied: annotated-types>=0.6.0 in /usr/local/lib/python3.11/dist-packages (from pydantic->google-generativeai) (0.7.0)\n",
            "Requirement already satisfied: pydantic-core==2.33.2 in /usr/local/lib/python3.11/dist-packages (from pydantic->google-generativeai) (2.33.2)\n",
            "Requirement already satisfied: typing-inspection>=0.4.0 in /usr/local/lib/python3.11/dist-packages (from pydantic->google-generativeai) (0.4.0)\n",
            "Requirement already satisfied: cffi>=1.12 in /usr/local/lib/python3.11/dist-packages (from cryptography>=36.0.0->pdfminer.six==20250327->pdfplumber) (1.17.1)\n",
            "Requirement already satisfied: grpcio<2.0dev,>=1.33.2 in /usr/local/lib/python3.11/dist-packages (from google-api-core[grpc]!=2.0.*,!=2.1.*,!=2.10.*,!=2.2.*,!=2.3.*,!=2.4.*,!=2.5.*,!=2.6.*,!=2.7.*,!=2.8.*,!=2.9.*,<3.0.0dev,>=1.34.1->google-ai-generativelanguage==0.6.15->google-generativeai) (1.71.0)\n",
            "Requirement already satisfied: grpcio-status<2.0.dev0,>=1.33.2 in /usr/local/lib/python3.11/dist-packages (from google-api-core[grpc]!=2.0.*,!=2.1.*,!=2.10.*,!=2.2.*,!=2.3.*,!=2.4.*,!=2.5.*,!=2.6.*,!=2.7.*,!=2.8.*,!=2.9.*,<3.0.0dev,>=1.34.1->google-ai-generativelanguage==0.6.15->google-generativeai) (1.71.0)\n",
            "Requirement already satisfied: pyparsing!=3.0.0,!=3.0.1,!=3.0.2,!=3.0.3,<4,>=2.4.2 in /usr/local/lib/python3.11/dist-packages (from httplib2<1.0.0,>=0.19.0->google-api-python-client->google-generativeai) (3.2.3)\n",
            "Requirement already satisfied: pyasn1<0.7.0,>=0.6.1 in /usr/local/lib/python3.11/dist-packages (from pyasn1-modules>=0.2.1->google-auth>=2.15.0->google-generativeai) (0.6.1)\n",
            "Requirement already satisfied: idna<4,>=2.5 in /usr/local/lib/python3.11/dist-packages (from requests<3.0.0,>=2.18.0->google-api-core->google-generativeai) (3.10)\n",
            "Requirement already satisfied: urllib3<3,>=1.21.1 in /usr/local/lib/python3.11/dist-packages (from requests<3.0.0,>=2.18.0->google-api-core->google-generativeai) (2.4.0)\n",
            "Requirement already satisfied: certifi>=2017.4.17 in /usr/local/lib/python3.11/dist-packages (from requests<3.0.0,>=2.18.0->google-api-core->google-generativeai) (2025.4.26)\n",
            "Requirement already satisfied: pycparser in /usr/local/lib/python3.11/dist-packages (from cffi>=1.12->cryptography>=36.0.0->pdfminer.six==20250327->pdfplumber) (2.22)\n",
            "Downloading pdfplumber-0.11.6-py3-none-any.whl (60 kB)\n",
            "\u001b[2K   \u001b[90m━━━━━━━━━━━━━━━━━━━━━━━━━━━━━━━━━━━━━━━━\u001b[0m \u001b[32m60.2/60.2 kB\u001b[0m \u001b[31m2.9 MB/s\u001b[0m eta \u001b[36m0:00:00\u001b[0m\n",
            "\u001b[?25hDownloading pdfminer_six-20250327-py3-none-any.whl (5.6 MB)\n",
            "\u001b[2K   \u001b[90m━━━━━━━━━━━━━━━━━━━━━━━━━━━━━━━━━━━━━━━━\u001b[0m \u001b[32m5.6/5.6 MB\u001b[0m \u001b[31m50.0 MB/s\u001b[0m eta \u001b[36m0:00:00\u001b[0m\n",
            "\u001b[?25hDownloading pypdfium2-4.30.1-py3-none-manylinux_2_17_x86_64.manylinux2014_x86_64.whl (2.9 MB)\n",
            "\u001b[2K   \u001b[90m━━━━━━━━━━━━━━━━━━━━━━━━━━━━━━━━━━━━━━━━\u001b[0m \u001b[32m2.9/2.9 MB\u001b[0m \u001b[31m51.0 MB/s\u001b[0m eta \u001b[36m0:00:00\u001b[0m\n",
            "\u001b[?25hInstalling collected packages: pypdfium2, pdfminer.six, pdfplumber\n",
            "Successfully installed pdfminer.six-20250327 pdfplumber-0.11.6 pypdfium2-4.30.1\n"
          ]
        }
      ],
      "source": [
        "!pip install google-generativeai pdfplumber"
      ]
    },
    {
      "cell_type": "code",
      "source": [
        "!pip install google-generativeai pdfplumber PyPDF2"
      ],
      "metadata": {
        "colab": {
          "base_uri": "https://localhost:8080/"
        },
        "id": "rxGTIuF5WNIf",
        "outputId": "7549f8de-f2bc-42c5-b7a6-f09984f7d96c"
      },
      "execution_count": null,
      "outputs": [
        {
          "output_type": "stream",
          "name": "stdout",
          "text": [
            "Requirement already satisfied: google-generativeai in /usr/local/lib/python3.11/dist-packages (0.8.5)\n",
            "Requirement already satisfied: pdfplumber in /usr/local/lib/python3.11/dist-packages (0.11.6)\n",
            "Collecting PyPDF2\n",
            "  Downloading pypdf2-3.0.1-py3-none-any.whl.metadata (6.8 kB)\n",
            "Requirement already satisfied: google-ai-generativelanguage==0.6.15 in /usr/local/lib/python3.11/dist-packages (from google-generativeai) (0.6.15)\n",
            "Requirement already satisfied: google-api-core in /usr/local/lib/python3.11/dist-packages (from google-generativeai) (2.24.2)\n",
            "Requirement already satisfied: google-api-python-client in /usr/local/lib/python3.11/dist-packages (from google-generativeai) (2.169.0)\n",
            "Requirement already satisfied: google-auth>=2.15.0 in /usr/local/lib/python3.11/dist-packages (from google-generativeai) (2.38.0)\n",
            "Requirement already satisfied: protobuf in /usr/local/lib/python3.11/dist-packages (from google-generativeai) (5.29.4)\n",
            "Requirement already satisfied: pydantic in /usr/local/lib/python3.11/dist-packages (from google-generativeai) (2.11.4)\n",
            "Requirement already satisfied: tqdm in /usr/local/lib/python3.11/dist-packages (from google-generativeai) (4.67.1)\n",
            "Requirement already satisfied: typing-extensions in /usr/local/lib/python3.11/dist-packages (from google-generativeai) (4.13.2)\n",
            "Requirement already satisfied: proto-plus<2.0.0dev,>=1.22.3 in /usr/local/lib/python3.11/dist-packages (from google-ai-generativelanguage==0.6.15->google-generativeai) (1.26.1)\n",
            "Requirement already satisfied: pdfminer.six==20250327 in /usr/local/lib/python3.11/dist-packages (from pdfplumber) (20250327)\n",
            "Requirement already satisfied: Pillow>=9.1 in /usr/local/lib/python3.11/dist-packages (from pdfplumber) (11.2.1)\n",
            "Requirement already satisfied: pypdfium2>=4.18.0 in /usr/local/lib/python3.11/dist-packages (from pdfplumber) (4.30.1)\n",
            "Requirement already satisfied: charset-normalizer>=2.0.0 in /usr/local/lib/python3.11/dist-packages (from pdfminer.six==20250327->pdfplumber) (3.4.2)\n",
            "Requirement already satisfied: cryptography>=36.0.0 in /usr/local/lib/python3.11/dist-packages (from pdfminer.six==20250327->pdfplumber) (43.0.3)\n",
            "Requirement already satisfied: googleapis-common-protos<2.0.0,>=1.56.2 in /usr/local/lib/python3.11/dist-packages (from google-api-core->google-generativeai) (1.70.0)\n",
            "Requirement already satisfied: requests<3.0.0,>=2.18.0 in /usr/local/lib/python3.11/dist-packages (from google-api-core->google-generativeai) (2.32.3)\n",
            "Requirement already satisfied: cachetools<6.0,>=2.0.0 in /usr/local/lib/python3.11/dist-packages (from google-auth>=2.15.0->google-generativeai) (5.5.2)\n",
            "Requirement already satisfied: pyasn1-modules>=0.2.1 in /usr/local/lib/python3.11/dist-packages (from google-auth>=2.15.0->google-generativeai) (0.4.2)\n",
            "Requirement already satisfied: rsa<5,>=3.1.4 in /usr/local/lib/python3.11/dist-packages (from google-auth>=2.15.0->google-generativeai) (4.9.1)\n",
            "Requirement already satisfied: httplib2<1.0.0,>=0.19.0 in /usr/local/lib/python3.11/dist-packages (from google-api-python-client->google-generativeai) (0.22.0)\n",
            "Requirement already satisfied: google-auth-httplib2<1.0.0,>=0.2.0 in /usr/local/lib/python3.11/dist-packages (from google-api-python-client->google-generativeai) (0.2.0)\n",
            "Requirement already satisfied: uritemplate<5,>=3.0.1 in /usr/local/lib/python3.11/dist-packages (from google-api-python-client->google-generativeai) (4.1.1)\n",
            "Requirement already satisfied: annotated-types>=0.6.0 in /usr/local/lib/python3.11/dist-packages (from pydantic->google-generativeai) (0.7.0)\n",
            "Requirement already satisfied: pydantic-core==2.33.2 in /usr/local/lib/python3.11/dist-packages (from pydantic->google-generativeai) (2.33.2)\n",
            "Requirement already satisfied: typing-inspection>=0.4.0 in /usr/local/lib/python3.11/dist-packages (from pydantic->google-generativeai) (0.4.0)\n",
            "Requirement already satisfied: cffi>=1.12 in /usr/local/lib/python3.11/dist-packages (from cryptography>=36.0.0->pdfminer.six==20250327->pdfplumber) (1.17.1)\n",
            "Requirement already satisfied: grpcio<2.0dev,>=1.33.2 in /usr/local/lib/python3.11/dist-packages (from google-api-core[grpc]!=2.0.*,!=2.1.*,!=2.10.*,!=2.2.*,!=2.3.*,!=2.4.*,!=2.5.*,!=2.6.*,!=2.7.*,!=2.8.*,!=2.9.*,<3.0.0dev,>=1.34.1->google-ai-generativelanguage==0.6.15->google-generativeai) (1.71.0)\n",
            "Requirement already satisfied: grpcio-status<2.0.dev0,>=1.33.2 in /usr/local/lib/python3.11/dist-packages (from google-api-core[grpc]!=2.0.*,!=2.1.*,!=2.10.*,!=2.2.*,!=2.3.*,!=2.4.*,!=2.5.*,!=2.6.*,!=2.7.*,!=2.8.*,!=2.9.*,<3.0.0dev,>=1.34.1->google-ai-generativelanguage==0.6.15->google-generativeai) (1.71.0)\n",
            "Requirement already satisfied: pyparsing!=3.0.0,!=3.0.1,!=3.0.2,!=3.0.3,<4,>=2.4.2 in /usr/local/lib/python3.11/dist-packages (from httplib2<1.0.0,>=0.19.0->google-api-python-client->google-generativeai) (3.2.3)\n",
            "Requirement already satisfied: pyasn1<0.7.0,>=0.6.1 in /usr/local/lib/python3.11/dist-packages (from pyasn1-modules>=0.2.1->google-auth>=2.15.0->google-generativeai) (0.6.1)\n",
            "Requirement already satisfied: idna<4,>=2.5 in /usr/local/lib/python3.11/dist-packages (from requests<3.0.0,>=2.18.0->google-api-core->google-generativeai) (3.10)\n",
            "Requirement already satisfied: urllib3<3,>=1.21.1 in /usr/local/lib/python3.11/dist-packages (from requests<3.0.0,>=2.18.0->google-api-core->google-generativeai) (2.4.0)\n",
            "Requirement already satisfied: certifi>=2017.4.17 in /usr/local/lib/python3.11/dist-packages (from requests<3.0.0,>=2.18.0->google-api-core->google-generativeai) (2025.4.26)\n",
            "Requirement already satisfied: pycparser in /usr/local/lib/python3.11/dist-packages (from cffi>=1.12->cryptography>=36.0.0->pdfminer.six==20250327->pdfplumber) (2.22)\n",
            "Downloading pypdf2-3.0.1-py3-none-any.whl (232 kB)\n",
            "\u001b[2K   \u001b[90m━━━━━━━━━━━━━━━━━━━━━━━━━━━━━━━━━━━━━━━━\u001b[0m \u001b[32m232.6/232.6 kB\u001b[0m \u001b[31m4.6 MB/s\u001b[0m eta \u001b[36m0:00:00\u001b[0m\n",
            "\u001b[?25hInstalling collected packages: PyPDF2\n",
            "Successfully installed PyPDF2-3.0.1\n"
          ]
        }
      ]
    },
    {
      "cell_type": "code",
      "source": [
        "import google.generativeai as genai\n",
        "from google.colab import userdata # Para acessar os secrets\n",
        "import pdfplumber\n",
        "from google.colab import files # Para fazer upload de arquivos\n",
        "import io # Para manipular os bytes do arquivo em memória\n",
        "\n",
        "# Tenta carregar a API Key a partir dos Secrets do Colab\n",
        "try:\n",
        "    GOOGLE_API_KEY = userdata.get('GOOGLE_API_KEY')\n",
        "    genai.configure(api_key=GOOGLE_API_KEY)\n",
        "    model = genai.GenerativeModel('gemini-1.5-flash-latest') # Você pode escolher o modelo Gemini, ex: 'gemini-pro' ou 'gemini-1.5-flash-latest'\n",
        "    print(\"API Key configurada e modelo Gemini inicializado com sucesso!\")\n",
        "except userdata.SecretNotFoundError:\n",
        "    print(\"ERRO CRÍTICO: A API Key do Google (GOOGLE_API_KEY) não foi encontrada nos Secrets do Colab.\")\n",
        "    print(\"Por favor, adicione sua GOOGLE_API_KEY aos Secrets do Colab (ícone de chave no painel esquerdo) com o nome 'GOOGLE_API_KEY'.\")\n",
        "    print(\"Certifique-se de que o nome está EXATAMENTE como 'GOOGLE_API_KEY'.\")\n",
        "except Exception as e:\n",
        "    print(f\"Ocorreu um erro ao configurar a API Key ou inicializar o modelo: {e}\")"
      ],
      "metadata": {
        "colab": {
          "base_uri": "https://localhost:8080/"
        },
        "id": "G1oh0-FMOTiU",
        "outputId": "e4fc73c9-8ecd-4db4-9508-68555a9eccad"
      },
      "execution_count": null,
      "outputs": [
        {
          "output_type": "stream",
          "name": "stdout",
          "text": [
            "API Key configurada e modelo Gemini inicializado com sucesso!\n"
          ]
        }
      ]
    },
    {
      "cell_type": "code",
      "source": [
        "def extract_text_from_pdf(pdf_file_content):\n",
        "    \"\"\"\n",
        "    Extrai texto de um conteúdo de arquivo PDF em bytes.\n",
        "    \"\"\"\n",
        "    text = \"\"\n",
        "    try:\n",
        "        # Abre o conteúdo do PDF (que está em bytes) como se fosse um arquivo\n",
        "        with io.BytesIO(pdf_file_content) as pdf_stream:\n",
        "            # Usa pdfplumber para abrir o \"arquivo\" PDF a partir do stream de bytes\n",
        "            with pdfplumber.open(pdf_stream) as pdf:\n",
        "                for page_number, page in enumerate(pdf.pages):\n",
        "                    page_text = page.extract_text()\n",
        "                    if page_text:\n",
        "                        text += f\"\\n--- Página {page_number + 1} ---\\n\" # Adiciona um separador de página\n",
        "                        text += page_text + \"\\n\"\n",
        "        return text.strip() # Remove espaços em branco extras no início e no fim\n",
        "    except Exception as e:\n",
        "        print(f\"Erro ao extrair texto do PDF: {e}\")\n",
        "        return None\n",
        "\n",
        "# Solicita o upload do arquivo PDF\n",
        "print(\"Por favor, faça o upload de um arquivo PDF contendo regulamentos ou tutoriais da biblioteca:\")\n",
        "uploaded_file_data = files.upload() # Abre a janela de diálogo para upload\n",
        "\n",
        "extracted_pdf_text = None # Inicializa a variável\n",
        "if uploaded_file_data:\n",
        "    # Pega o nome do primeiro arquivo carregado (assumindo um único arquivo)\n",
        "    file_name = next(iter(uploaded_file_data))\n",
        "    print(f\"\\nArquivo '{file_name}' carregado com sucesso.\")\n",
        "\n",
        "    # Pega o conteúdo do arquivo carregado (em bytes)\n",
        "    pdf_content_bytes = uploaded_file_data[file_name]\n",
        "\n",
        "    # Extrai o texto do conteúdo do PDF\n",
        "    extracted_pdf_text = extract_text_from_pdf(pdf_content_bytes)\n",
        "\n",
        "    if extracted_pdf_text:\n",
        "        print(\"\\nTexto extraído do PDF com sucesso!\")\n",
        "        # Para visualização, podemos mostrar uma parte do texto:\n",
        "        # print(\"\\n--- Início de um trecho do Texto do PDF ---\")\n",
        "        # print(extracted_pdf_text[:1000] + \"...\" if len(extracted_pdf_text) > 1000 else extracted_pdf_text)\n",
        "        # print(\"--- Fim do trecho do Texto do PDF ---\")\n",
        "    else:\n",
        "        print(\"Não foi possível extrair texto do PDF. Verifique se o arquivo é um PDF válido e não está corrompido ou protegido contra cópia.\")\n",
        "else:\n",
        "    print(\"Nenhum arquivo PDF foi carregado.\")"
      ],
      "metadata": {
        "colab": {
          "base_uri": "https://localhost:8080/",
          "height": 457
        },
        "id": "NbLxKN3fO9b7",
        "outputId": "58281aa0-61d9-47f9-a268-a0791052502a"
      },
      "execution_count": null,
      "outputs": [
        {
          "output_type": "stream",
          "name": "stdout",
          "text": [
            "Por favor, faça o upload de um arquivo PDF contendo regulamentos ou tutoriais da biblioteca:\n"
          ]
        },
        {
          "output_type": "display_data",
          "data": {
            "text/plain": [
              "<IPython.core.display.HTML object>"
            ],
            "text/html": [
              "\n",
              "     <input type=\"file\" id=\"files-aafc45dc-51df-4b6f-ac9d-a24618eab044\" name=\"files[]\" multiple disabled\n",
              "        style=\"border:none\" />\n",
              "     <output id=\"result-aafc45dc-51df-4b6f-ac9d-a24618eab044\">\n",
              "      Upload widget is only available when the cell has been executed in the\n",
              "      current browser session. Please rerun this cell to enable.\n",
              "      </output>\n",
              "      <script>// Copyright 2017 Google LLC\n",
              "//\n",
              "// Licensed under the Apache License, Version 2.0 (the \"License\");\n",
              "// you may not use this file except in compliance with the License.\n",
              "// You may obtain a copy of the License at\n",
              "//\n",
              "//      http://www.apache.org/licenses/LICENSE-2.0\n",
              "//\n",
              "// Unless required by applicable law or agreed to in writing, software\n",
              "// distributed under the License is distributed on an \"AS IS\" BASIS,\n",
              "// WITHOUT WARRANTIES OR CONDITIONS OF ANY KIND, either express or implied.\n",
              "// See the License for the specific language governing permissions and\n",
              "// limitations under the License.\n",
              "\n",
              "/**\n",
              " * @fileoverview Helpers for google.colab Python module.\n",
              " */\n",
              "(function(scope) {\n",
              "function span(text, styleAttributes = {}) {\n",
              "  const element = document.createElement('span');\n",
              "  element.textContent = text;\n",
              "  for (const key of Object.keys(styleAttributes)) {\n",
              "    element.style[key] = styleAttributes[key];\n",
              "  }\n",
              "  return element;\n",
              "}\n",
              "\n",
              "// Max number of bytes which will be uploaded at a time.\n",
              "const MAX_PAYLOAD_SIZE = 100 * 1024;\n",
              "\n",
              "function _uploadFiles(inputId, outputId) {\n",
              "  const steps = uploadFilesStep(inputId, outputId);\n",
              "  const outputElement = document.getElementById(outputId);\n",
              "  // Cache steps on the outputElement to make it available for the next call\n",
              "  // to uploadFilesContinue from Python.\n",
              "  outputElement.steps = steps;\n",
              "\n",
              "  return _uploadFilesContinue(outputId);\n",
              "}\n",
              "\n",
              "// This is roughly an async generator (not supported in the browser yet),\n",
              "// where there are multiple asynchronous steps and the Python side is going\n",
              "// to poll for completion of each step.\n",
              "// This uses a Promise to block the python side on completion of each step,\n",
              "// then passes the result of the previous step as the input to the next step.\n",
              "function _uploadFilesContinue(outputId) {\n",
              "  const outputElement = document.getElementById(outputId);\n",
              "  const steps = outputElement.steps;\n",
              "\n",
              "  const next = steps.next(outputElement.lastPromiseValue);\n",
              "  return Promise.resolve(next.value.promise).then((value) => {\n",
              "    // Cache the last promise value to make it available to the next\n",
              "    // step of the generator.\n",
              "    outputElement.lastPromiseValue = value;\n",
              "    return next.value.response;\n",
              "  });\n",
              "}\n",
              "\n",
              "/**\n",
              " * Generator function which is called between each async step of the upload\n",
              " * process.\n",
              " * @param {string} inputId Element ID of the input file picker element.\n",
              " * @param {string} outputId Element ID of the output display.\n",
              " * @return {!Iterable<!Object>} Iterable of next steps.\n",
              " */\n",
              "function* uploadFilesStep(inputId, outputId) {\n",
              "  const inputElement = document.getElementById(inputId);\n",
              "  inputElement.disabled = false;\n",
              "\n",
              "  const outputElement = document.getElementById(outputId);\n",
              "  outputElement.innerHTML = '';\n",
              "\n",
              "  const pickedPromise = new Promise((resolve) => {\n",
              "    inputElement.addEventListener('change', (e) => {\n",
              "      resolve(e.target.files);\n",
              "    });\n",
              "  });\n",
              "\n",
              "  const cancel = document.createElement('button');\n",
              "  inputElement.parentElement.appendChild(cancel);\n",
              "  cancel.textContent = 'Cancel upload';\n",
              "  const cancelPromise = new Promise((resolve) => {\n",
              "    cancel.onclick = () => {\n",
              "      resolve(null);\n",
              "    };\n",
              "  });\n",
              "\n",
              "  // Wait for the user to pick the files.\n",
              "  const files = yield {\n",
              "    promise: Promise.race([pickedPromise, cancelPromise]),\n",
              "    response: {\n",
              "      action: 'starting',\n",
              "    }\n",
              "  };\n",
              "\n",
              "  cancel.remove();\n",
              "\n",
              "  // Disable the input element since further picks are not allowed.\n",
              "  inputElement.disabled = true;\n",
              "\n",
              "  if (!files) {\n",
              "    return {\n",
              "      response: {\n",
              "        action: 'complete',\n",
              "      }\n",
              "    };\n",
              "  }\n",
              "\n",
              "  for (const file of files) {\n",
              "    const li = document.createElement('li');\n",
              "    li.append(span(file.name, {fontWeight: 'bold'}));\n",
              "    li.append(span(\n",
              "        `(${file.type || 'n/a'}) - ${file.size} bytes, ` +\n",
              "        `last modified: ${\n",
              "            file.lastModifiedDate ? file.lastModifiedDate.toLocaleDateString() :\n",
              "                                    'n/a'} - `));\n",
              "    const percent = span('0% done');\n",
              "    li.appendChild(percent);\n",
              "\n",
              "    outputElement.appendChild(li);\n",
              "\n",
              "    const fileDataPromise = new Promise((resolve) => {\n",
              "      const reader = new FileReader();\n",
              "      reader.onload = (e) => {\n",
              "        resolve(e.target.result);\n",
              "      };\n",
              "      reader.readAsArrayBuffer(file);\n",
              "    });\n",
              "    // Wait for the data to be ready.\n",
              "    let fileData = yield {\n",
              "      promise: fileDataPromise,\n",
              "      response: {\n",
              "        action: 'continue',\n",
              "      }\n",
              "    };\n",
              "\n",
              "    // Use a chunked sending to avoid message size limits. See b/62115660.\n",
              "    let position = 0;\n",
              "    do {\n",
              "      const length = Math.min(fileData.byteLength - position, MAX_PAYLOAD_SIZE);\n",
              "      const chunk = new Uint8Array(fileData, position, length);\n",
              "      position += length;\n",
              "\n",
              "      const base64 = btoa(String.fromCharCode.apply(null, chunk));\n",
              "      yield {\n",
              "        response: {\n",
              "          action: 'append',\n",
              "          file: file.name,\n",
              "          data: base64,\n",
              "        },\n",
              "      };\n",
              "\n",
              "      let percentDone = fileData.byteLength === 0 ?\n",
              "          100 :\n",
              "          Math.round((position / fileData.byteLength) * 100);\n",
              "      percent.textContent = `${percentDone}% done`;\n",
              "\n",
              "    } while (position < fileData.byteLength);\n",
              "  }\n",
              "\n",
              "  // All done.\n",
              "  yield {\n",
              "    response: {\n",
              "      action: 'complete',\n",
              "    }\n",
              "  };\n",
              "}\n",
              "\n",
              "scope.google = scope.google || {};\n",
              "scope.google.colab = scope.google.colab || {};\n",
              "scope.google.colab._files = {\n",
              "  _uploadFiles,\n",
              "  _uploadFilesContinue,\n",
              "};\n",
              "})(self);\n",
              "</script> "
            ]
          },
          "metadata": {}
        },
        {
          "output_type": "stream",
          "name": "stderr",
          "text": [
            "WARNING:pdfminer.pdfpage:CropBox missing from /Page, defaulting to MediaBox\n",
            "WARNING:pdfminer.pdfpage:CropBox missing from /Page, defaulting to MediaBox\n",
            "WARNING:pdfminer.pdfpage:CropBox missing from /Page, defaulting to MediaBox\n",
            "WARNING:pdfminer.pdfpage:CropBox missing from /Page, defaulting to MediaBox\n",
            "WARNING:pdfminer.pdfpage:CropBox missing from /Page, defaulting to MediaBox\n",
            "WARNING:pdfminer.pdfpage:CropBox missing from /Page, defaulting to MediaBox\n",
            "WARNING:pdfminer.pdfpage:CropBox missing from /Page, defaulting to MediaBox\n",
            "WARNING:pdfminer.pdfpage:CropBox missing from /Page, defaulting to MediaBox\n"
          ]
        },
        {
          "output_type": "stream",
          "name": "stdout",
          "text": [
            "Saving Serviços disponíveis aos usuários do Consórcio CEDERJ - UFF_orientacoes_mar_2025.pdf to Serviços disponíveis aos usuários do Consórcio CEDERJ - UFF_orientacoes_mar_2025 (1).pdf\n",
            "\n",
            "Arquivo 'Serviços disponíveis aos usuários do Consórcio CEDERJ - UFF_orientacoes_mar_2025 (1).pdf' carregado com sucesso.\n"
          ]
        },
        {
          "output_type": "stream",
          "name": "stderr",
          "text": [
            "WARNING:pdfminer.pdfpage:CropBox missing from /Page, defaulting to MediaBox\n",
            "WARNING:pdfminer.pdfpage:CropBox missing from /Page, defaulting to MediaBox\n",
            "WARNING:pdfminer.pdfpage:CropBox missing from /Page, defaulting to MediaBox\n",
            "WARNING:pdfminer.pdfpage:CropBox missing from /Page, defaulting to MediaBox\n",
            "WARNING:pdfminer.pdfpage:CropBox missing from /Page, defaulting to MediaBox\n",
            "WARNING:pdfminer.pdfpage:CropBox missing from /Page, defaulting to MediaBox\n",
            "WARNING:pdfminer.pdfpage:CropBox missing from /Page, defaulting to MediaBox\n",
            "WARNING:pdfminer.pdfpage:CropBox missing from /Page, defaulting to MediaBox\n"
          ]
        },
        {
          "output_type": "stream",
          "name": "stdout",
          "text": [
            "\n",
            "Texto extraído do PDF com sucesso!\n"
          ]
        }
      ]
    },
    {
      "cell_type": "code",
      "source": [
        "import google.generativeai as genai\n",
        "\n",
        "# Se você reiniciou o Colab, pode precisar reconfigurar a chave novamente\n",
        "\n",
        "\n",
        "for m in genai.list_models():\n",
        "  print(f\"Nome do Modelo: {m.name}\")\n",
        "  if m.versions:\n",
        "    for version in m.versions:\n",
        "      print(f\"  Versão: {version.name}\")\n",
        "      print(f\"    Status: {version.status}\")\n",
        "  print(f\"  Métodos Suportados: {m.supported_generation_methods}\")\n",
        "  print(\"-\" * 30)"
      ],
      "metadata": {
        "colab": {
          "base_uri": "https://localhost:8080/",
          "height": 228
        },
        "id": "yqzNzXWjY4YQ",
        "outputId": "cff464b1-31f0-4eec-87f9-f77688388f38"
      },
      "execution_count": null,
      "outputs": [
        {
          "output_type": "stream",
          "name": "stdout",
          "text": [
            "Nome do Modelo: models/embedding-gecko-001\n"
          ]
        },
        {
          "output_type": "error",
          "ename": "AttributeError",
          "evalue": "'Model' object has no attribute 'versions'",
          "traceback": [
            "\u001b[0;31m---------------------------------------------------------------------------\u001b[0m",
            "\u001b[0;31mAttributeError\u001b[0m                            Traceback (most recent call last)",
            "\u001b[0;32m<ipython-input-24-1fa2e6a8617b>\u001b[0m in \u001b[0;36m<cell line: 0>\u001b[0;34m()\u001b[0m\n\u001b[1;32m      6\u001b[0m \u001b[0;32mfor\u001b[0m \u001b[0mm\u001b[0m \u001b[0;32min\u001b[0m \u001b[0mgenai\u001b[0m\u001b[0;34m.\u001b[0m\u001b[0mlist_models\u001b[0m\u001b[0;34m(\u001b[0m\u001b[0;34m)\u001b[0m\u001b[0;34m:\u001b[0m\u001b[0;34m\u001b[0m\u001b[0;34m\u001b[0m\u001b[0m\n\u001b[1;32m      7\u001b[0m   \u001b[0mprint\u001b[0m\u001b[0;34m(\u001b[0m\u001b[0;34mf\"Nome do Modelo: {m.name}\"\u001b[0m\u001b[0;34m)\u001b[0m\u001b[0;34m\u001b[0m\u001b[0;34m\u001b[0m\u001b[0m\n\u001b[0;32m----> 8\u001b[0;31m   \u001b[0;32mif\u001b[0m \u001b[0mm\u001b[0m\u001b[0;34m.\u001b[0m\u001b[0mversions\u001b[0m\u001b[0;34m:\u001b[0m\u001b[0;34m\u001b[0m\u001b[0;34m\u001b[0m\u001b[0m\n\u001b[0m\u001b[1;32m      9\u001b[0m     \u001b[0;32mfor\u001b[0m \u001b[0mversion\u001b[0m \u001b[0;32min\u001b[0m \u001b[0mm\u001b[0m\u001b[0;34m.\u001b[0m\u001b[0mversions\u001b[0m\u001b[0;34m:\u001b[0m\u001b[0;34m\u001b[0m\u001b[0;34m\u001b[0m\u001b[0m\n\u001b[1;32m     10\u001b[0m       \u001b[0mprint\u001b[0m\u001b[0;34m(\u001b[0m\u001b[0;34mf\"  Versão: {version.name}\"\u001b[0m\u001b[0;34m)\u001b[0m\u001b[0;34m\u001b[0m\u001b[0;34m\u001b[0m\u001b[0m\n",
            "\u001b[0;31mAttributeError\u001b[0m: 'Model' object has no attribute 'versions'"
          ]
        }
      ]
    },
    {
      "cell_type": "code",
      "source": [
        "if extracted_pdf_text: # Verifica se o texto foi extraído com sucesso\n",
        "    user_question = input(\"\\nDigite sua pergunta sobre o conteúdo do PDF (ex: 'Qual o regulamento para empréstimo?'): \")\n",
        "\n",
        "    if user_question:\n",
        "        # Montando o prompt para o modelo Gemini\n",
        "        # Este prompt instrui o modelo sobre como ele deve se comportar\n",
        "        prompt_template = f\"\"\"\n",
        "        Você é um assistente de chatbot especializado em responder perguntas sobre os documentos de bibliotecas da UFF.\n",
        "        Use SOMENTE o \"Texto do Documento\" fornecido abaixo para responder à \"Pergunta do Usuário\".\n",
        "        Se a informação para responder à pergunta não estiver claramente presente no \"Texto do Documento\",\n",
        "        responda: \"Desculpe, não encontrei essa informação específica no documento fornecido.\"\n",
        "        Não invente informações que não estão no texto. Seja direto e conciso.\n",
        "\n",
        "        Texto do Documento:\n",
        "        ---\n",
        "        {extracted_pdf_text}\n",
        "        ---\n",
        "\n",
        "        Pergunta do Usuário: {user_question}\n",
        "\n",
        "        Resposta do Assistente:\n",
        "        \"\"\"\n",
        "\n",
        "        try:\n",
        "            print(\"\\nEnviando sua pergunta para o modelo Gemini. Aguarde um momento...\")\n",
        "            # Envia o prompt para o modelo Gemini\n",
        "            response = model.generate_content(prompt_template)\n",
        "\n",
        "            print(\"\\nResposta do Chatbot:\")\n",
        "            print(response.text)\n",
        "\n",
        "        except Exception as e:\n",
        "            print(f\"Ocorreu um erro ao tentar gerar a resposta com o Gemini: {e}\")\n",
        "            if \"GOOGLE_API_KEY\" in str(e).upper(): # Verifica se o erro pode ser de API Key\n",
        "                 print(\"DICA: Verifique se sua GOOGLE_API_KEY está correta, ativa e foi adicionada corretamente aos Secrets do Colab.\")\n",
        "            elif \"quota\" in str(e).lower(): # Verifica se o erro pode ser de cota\n",
        "                 print(\"DICA: Você pode ter atingido o limite de uso (quota) da API. Verifique seu painel no Google AI Studio ou Google Cloud.\")\n",
        "\n",
        "    else:\n",
        "        print(\"Nenhuma pergunta foi digitada.\")\n",
        "else:\n",
        "    print(\"\\nNão há texto de PDF disponível para fazer perguntas. Por favor, execute a célula anterior para carregar um PDF.\")"
      ],
      "metadata": {
        "colab": {
          "base_uri": "https://localhost:8080/",
          "height": 176
        },
        "id": "vWQNc3cQRwy9",
        "outputId": "82f40a77-f76a-4889-f2fc-c2f977c9c150"
      },
      "execution_count": null,
      "outputs": [
        {
          "output_type": "stream",
          "name": "stdout",
          "text": [
            "\n",
            "Digite sua pergunta sobre o conteúdo do PDF (ex: 'Qual o regulamento para empréstimo?'): aluno cederj tem acesso a biblioteca?\n",
            "\n",
            "Enviando sua pergunta para o modelo Gemini. Aguarde um momento...\n",
            "\n",
            "Resposta do Chatbot:\n",
            "Sim, alunos CEDERJ com IDUFF ativo têm acesso aos recursos impressos e digitais das Bibliotecas UFF.  O acesso inclui empréstimo de livros impressos, uso do espaço físico, computadores e equipamentos, serviço de levantamento bibliográfico, orientação para normalização de trabalhos acadêmicos, treinamentos em competência informacional e acesso à coleção de ebooks da Minha Biblioteca, entre outros recursos.\n",
            "\n"
          ]
        }
      ]
    },
    {
      "cell_type": "code",
      "source": [
        "import PyPDF2\n",
        "import os\n",
        "\n",
        "def ler_pdfs_da_pasta(caminho_pasta):\n",
        "  texto_completo = \"\"\n",
        "  for nome_arquivo in os.listdir(caminho_pasta):\n",
        "    if nome_arquivo.endswith(\".pdf\"):\n",
        "      caminho_completo = os.path.join(caminho_pasta, nome_arquivo)\n",
        "      try:\n",
        "        with open(caminho_completo, 'rb') as arquivo:\n",
        "          leitor_pdf = PyPDF2.PdfReader(arquivo)\n",
        "          for pagina_num in range(len(leitor_pdf.pages)):\n",
        "            pagina = leitor_pdf.pages[pagina_num]\n",
        "            texto_completo += pagina.extract_text() + \"\\n\\n\" # Adiciona separação entre documentos\n",
        "      except FileNotFoundError:\n",
        "        print(f\"Erro: Arquivo não encontrado: {caminho_completo}\")\n",
        "      except Exception as e:\n",
        "        print(f\"Erro ao ler {caminho_completo}: {e}\")\n",
        "  return texto_completo\n",
        "\n",
        "# Especifique o nome da pasta onde você colocou os PDFs\n",
        "pasta_pdfs = \"documentos_biblioteca\"\n",
        "\n",
        "# Crie a pasta se ela não existir\n",
        "if not os.path.exists(pasta_pdfs):\n",
        "    os.makedirs(pasta_pdfs)\n",
        "    print(f\"Pasta '{pasta_pdfs}' criada. Por favor, faça o upload dos seus PDFs para esta pasta.\")\n",
        "else:\n",
        "    conteudo_total_pdfs = ler_pdfs_da_pasta(pasta_pdfs)\n",
        "\n",
        "    if conteudo_total_pdfs:\n",
        "        print(f\"Conteúdo total dos PDFs (primeiros 200 caracteres): {conteudo_total_pdfs[:200]}...\")\n",
        "    else:\n",
        "        print(\"Nenhum arquivo PDF encontrado na pasta ou ocorreu um erro ao ler os arquivos.\")"
      ],
      "metadata": {
        "colab": {
          "base_uri": "https://localhost:8080/"
        },
        "id": "-vn2IQzGVzh3",
        "outputId": "b89cea64-093b-41e8-b382-f4260d11442a"
      },
      "execution_count": null,
      "outputs": [
        {
          "output_type": "stream",
          "name": "stdout",
          "text": [
            "Conteúdo total dos PDFs (primeiros 200 caracteres):  \n",
            "                                         UNIVERSIDADE FEDERAL FLUMINENSE – BOLETIM DE SERVIÇO  \n",
            "               ANO LVII – N.° 142                  28/0 7/2023       SEÇÃO III                        ...\n"
          ]
        }
      ]
    },
    {
      "cell_type": "code",
      "source": [
        "import google.generativeai as genai\n",
        "\n",
        "# Já configuramos a API key anteriormente, então não precisamos fazer isso de novo nesta sessão.\n",
        "# Certifique-se de que a configuração ainda está ativa se você reiniciou o Colab.\n",
        "\n",
        "# Mude o nome do modelo para um que você tem quota disponível, como 'gemini-1.5-flash-latest'\n",
        "model = genai.GenerativeModel('gemini-1.5-flash-latest')\n",
        "\n",
        "pergunta = \"Quais são os documentos necessários para o cadastro nas bibliotecas?\"\n",
        "\n",
        "# Verifique se a variável 'conteudo_total_pdfs' existe e não está vazia antes de usar\n",
        "if 'conteudo_total_pdfs' in locals() and conteudo_total_pdfs:\n",
        "    try:\n",
        "        # Envia a pergunta para o modelo configurado\n",
        "        resposta = model.generate_content(f\"Responda à seguinte pergunta usando APENAS as informações contidas neste texto: '{conteudo_total_pdfs}'.\\n\\nPergunta: {pergunta}\")\n",
        "\n",
        "        print(resposta.text)\n",
        "\n",
        "    except Exception as e:\n",
        "        print(f\"Ocorreu um erro ao tentar gerar a resposta com o Gemini: {e}\")\n",
        "        # Mensagens de dica para erros comuns\n",
        "        if \"GOOGLE_API_KEY\" in str(e).upper():\n",
        "             print(\"DICA: Verifique se sua GOOGLE_API_KEY está correta, ativa e foi adicionada corretamente aos Secrets do Colab.\")\n",
        "        elif \"quota\" in str(e).lower():\n",
        "             print(\"DICA: Você pode ter atingido o limite de uso (quota) da API. Verifique seu painel no Google AI Studio ou Google Cloud.\")\n",
        "        elif \"models/\" in str(e) and \"is not found\" in str(e):\n",
        "            print(\"DICA: O nome do modelo pode estar incorreto ou o modelo não está disponível para sua conta ou região. Verifique a lista de modelos disponíveis via genai.list_models().\")\n",
        "        else:\n",
        "            print(\"DICA: Verifique a mensagem de erro para mais detalhes ou consulte a documentação da API do Google Gemini.\")\n",
        "\n",
        "else:\n",
        "    print(\"Variável 'conteudo_total_pdfs' não encontrada ou vazia. Certifique-se de ter executado a célula que lê os arquivos PDF da pasta.\")"
      ],
      "metadata": {
        "colab": {
          "base_uri": "https://localhost:8080/",
          "height": 72
        },
        "id": "ThP3BTCUYm2b",
        "outputId": "358e65db-3d17-4acf-b680-63f53332dce1"
      },
      "execution_count": null,
      "outputs": [
        {
          "output_type": "stream",
          "name": "stdout",
          "text": [
            "Para usuários brasileiros são necessários: documento oficial e original de identidade; CPF; comprovante de matrícula, declaração emitida pelo Portal do IdUFF ou coordenador de curso; e comprovante de residência.  Para usuários estrangeiros: passaporte ou carteira de registro nacional migratório; comprovante de matrícula ou declaração emitida pelo Portal do IdUFF, Superintendência de Relações Internacionais (SRI) ou coordenador de curso; e comprovante de residência no Brasil.\n",
            "\n"
          ]
        }
      ]
    },
    {
      "cell_type": "code",
      "source": [
        "texto_do_site_pre_cadastro = \"\"\"\n",
        "O pré-cadastro é para alunos, professores e servidores da UFF.\n",
        "Ao se cadastrar, você recebe um login e senha para o Pergamum-UFF.\n",
        "O formulário pede: nome completo, e-mail, tipo de vínculo, comprovante de inscrição, telefone, endereço, RG, CPF, data de nascimento, nacionalidade e curso.\n",
        "Você declara que as informações são válidas e que seus dados serão usados no Pergamum-UFF para acesso aos serviços online das bibliotecas.\n",
        "Usuários da Creche e do Coluni devem ir diretamente às bibliotecas responsáveis (BFP e BML).\n",
        "\"\"\""
      ],
      "metadata": {
        "id": "pTQNwrDdcSUv"
      },
      "execution_count": null,
      "outputs": []
    },
    {
      "cell_type": "code",
      "source": [
        "# Certifique-se de que 'conteudo_total_pdfs' foi preenchido corretamente\n",
        "if 'conteudo_total_pdfs' in locals():\n",
        "  conteudo_completo = conteudo_total_pdfs + \"\\n\\n\" + texto_do_site_pre_cadastro\n",
        "  print(\"Conteúdo dos PDFs e do site combinado com sucesso.\")\n",
        "else:\n",
        "  print(\"A variável 'conteudo_total_pdfs' não foi definida. Execute a leitura dos PDFs primeiro!\")\n",
        "  conteudo_completo = texto_do_site_pre_cadastro # Usar apenas o texto do site por enquanto"
      ],
      "metadata": {
        "colab": {
          "base_uri": "https://localhost:8080/"
        },
        "id": "QNVq93g_chIL",
        "outputId": "c0072892-dd1c-4ff3-8c01-2e828963c525"
      },
      "execution_count": null,
      "outputs": [
        {
          "output_type": "stream",
          "name": "stdout",
          "text": [
            "Conteúdo dos PDFs e do site combinado com sucesso.\n"
          ]
        }
      ]
    },
    {
      "cell_type": "code",
      "source": [
        "import google.generativeai as genai\n",
        "\n",
        "# Certifique-se de que sua API key está configurada (execute a célula de configuração se necessário)\n",
        "\n",
        "\n",
        "model = genai.GenerativeModel('models/gemini-1.5-flash-latest')\n",
        "\n",
        "pergunta_pre_cadastro = \"quais os produtos e serviços?\"\n",
        "\n",
        "resposta_pre_cadastro = model.generate_content(f\"Responda à seguinte pergunta usando APENAS as informações contidas neste texto: '{conteudo_completo}'.\\n\\nPergunta: {pergunta_pre_cadastro}\")\n",
        "\n",
        "print(\"\\nResposta sobre o pré-cadastro:\")\n",
        "print(resposta_pre_cadastro.text)"
      ],
      "metadata": {
        "colab": {
          "base_uri": "https://localhost:8080/",
          "height": 106
        },
        "id": "_gShdaeOcrZ-",
        "outputId": "6e854d75-e34b-4ced-b529-a6783eb1ea4f"
      },
      "execution_count": null,
      "outputs": [
        {
          "output_type": "stream",
          "name": "stdout",
          "text": [
            "\n",
            "Resposta sobre o pré-cadastro:\n",
            "Os serviços oferecidos pelas Bibliotecas UFF incluem empréstimo e circulação de materiais, reserva de materiais, alerta de devolução, consulta local, visita guiada, uso de armários, visita a exposições, alguns treinamentos e outros serviços específicos.  Há também serviços online como empréstimo domiciliar, renovação, reserva e alerta de devolução,  acesso a material bibliográfico via login e senha IdUFF ou reconhecimento de Ips, e  acesso a espaços físicos multiusuários (sala de estudo individual, sala de estudo em grupo, espaço de equipamentos para acessibilidade, espaço para uso de computadores).  A biblioteca também oferece comutação bibliográfica, levantamento bibliográfico e ficha catalográfica.  Além disso, emitem declaração de Nada Consta para diversos processos.\n",
            "\n"
          ]
        }
      ]
    },
    {
      "cell_type": "code",
      "source": [
        "texto_ficha_catalografica_bcg = \"\"\"\n",
        "Para gerar a ficha catalográfica na BCG, o usuário deve preencher um formulário online, atentando para o preenchimento correto dos campos, já que toda informação inserida é de responsabilidade do usuário.\n",
        "Após o preenchimento, ao clicar em “Gerar ficha”, uma nova página do navegador será aberta com a ficha catalográfica gerada.\n",
        "O usuário poderá realizar o download do arquivo em formato PDF e inserir no trabalho ou tirar um “print” da imagem da ficha e colar no arquivo do trabalho.\n",
        "Para informações mais detalhadas de como preencher e gerar a ficha catalográfica, o usuário pode acessar as Orientações básicas para preenchimento e geração da ficha catalográfica no link: https://bibliotecas.uff.br/bcg/fichacatalografica/.\n",
        "\"\"\"\n",
        "\n",
        "texto_funcionamento_bcg = \"\"\"\n",
        "A Biblioteca Central do Gragoatá (BCG) funciona de segunda a sexta-feira, das 8h às 20h.\n",
        "\"\"\""
      ],
      "metadata": {
        "id": "Oo2zR0KmfFT-"
      },
      "execution_count": null,
      "outputs": []
    },
    {
      "cell_type": "code",
      "source": [
        "texto_produtos_servicos = \"\"\"\n",
        "As Bibliotecas da UFF oferecem uma variedade de produtos e serviços, incluindo acesso a coleções impressas e digitais, assistência para usuários com deficiência e um boletim bibliográfico que lista novas aquisições.\n",
        "Os usuários podem se cadastrar para acessar os serviços através do Sistema Pergamum, consultar o catálogo online e obter cópias de documentos técnico-científicos de bibliotecas brasileiras e internacionais.\n",
        "Adicionalmente, as bibliotecas oferecem disseminação seletiva de informação, acesso a e-books, empréstimos domiciliares, empréstimos entre bibliotecas e ferramentas de pesquisa.\n",
        "As Bibliotecas da UFF também possuem um canal no YouTube que oferece materiais audiovisuais e tutoriais.\n",
        "\"\"\""
      ],
      "metadata": {
        "id": "LBMwkldGfnI-"
      },
      "execution_count": null,
      "outputs": []
    },
    {
      "cell_type": "code",
      "source": [
        "# Certifique-se de que todas as variáveis de texto estão definidas\n",
        "if 'conteudo_total_pdfs' in locals():\n",
        "  conteudo_completo = conteudo_total_pdfs + \"\\n\\n\"\n",
        "else:\n",
        "  conteudo_completo = \"\"\n",
        "\n",
        "if 'texto_do_site_pre_cadastro' in locals():\n",
        "  conteudo_completo += texto_do_site_pre_cadastro + \"\\n\\n\"\n",
        "\n",
        "if 'texto_produtos_servicos' in locals():\n",
        "  conteudo_completo += texto_produtos_servicos + \"\\n\\n\"\n",
        "else:\n",
        "  print(\"A variável 'texto_produtos_servicos' não foi definida. Adicione o texto dos produtos e serviços!\")\n",
        "\n",
        "conteudo_completo += texto_ficha_catalografica_bcg + \"\\n\\n\"\n",
        "conteudo_completo += texto_funcionamento_bcg\n",
        "\n",
        "print(\"Todo o conteúdo foi combinado com sucesso.\")"
      ],
      "metadata": {
        "colab": {
          "base_uri": "https://localhost:8080/"
        },
        "id": "j3Vwnq02fRJ2",
        "outputId": "cf94b851-5832-4787-ec1a-d06d041c71e7"
      },
      "execution_count": null,
      "outputs": [
        {
          "output_type": "stream",
          "name": "stdout",
          "text": [
            "Todo o conteúdo foi combinado com sucesso.\n"
          ]
        }
      ]
    },
    {
      "cell_type": "code",
      "source": [
        "import google.generativeai as genai\n",
        "import textwrap\n",
        "\n",
        "# Certifique-se de que sua API key está configurada\n",
        "\n",
        "\n",
        "model = genai.GenerativeModel('models/gemini-1.5-flash-latest')\n",
        "\n",
        "# Largura desejada para a quebra de linha\n",
        "largura_tela = 70\n",
        "\n",
        "# Certifique-se de que 'conteudo_completo' está definido\n",
        "if 'conteudo_completo' not in locals():\n",
        "  print(\"A variável 'conteudo_completo' não foi definida. Execute as células de leitura e combinação de informações primeiro!\")\n",
        "else:\n",
        "  print(\"Chatbot das Bibliotecas da UFF iniciado. Digite sua pergunta ou 'sair' para encerrar.\")\n",
        "  while True:\n",
        "    pergunta_usuario = input(\"Você: \")\n",
        "    if pergunta_usuario.lower() == 'sair':\n",
        "      break\n",
        "\n",
        "    prompt_com_contexto = f\"Responda à seguinte pergunta usando APENAS as informações contidas neste texto: '{conteudo_completo}'.\\n\\nPergunta: {pergunta_usuario}\"\n",
        "\n",
        "    try:\n",
        "      resposta = model.generate_content(prompt_com_contexto)\n",
        "      # Formatar a saída com quebras de linha\n",
        "      texto_formatado = textwrap.fill(resposta.text, width=largura_tela)\n",
        "      print(f\"Chatbot: {texto_formatado}\")\n",
        "    except Exception as e:\n",
        "      print(f\"Ocorreu um erro ao gerar a resposta: {e}\")\n",
        "\n",
        "  print(\"Chatbot encerrado.\")"
      ],
      "metadata": {
        "colab": {
          "base_uri": "https://localhost:8080/",
          "height": 225
        },
        "id": "sR75I1cJf5YY",
        "outputId": "cd4be895-fdef-46e4-d5f7-b9f5d23ef5af"
      },
      "execution_count": null,
      "outputs": [
        {
          "output_type": "stream",
          "name": "stdout",
          "text": [
            "Chatbot das Bibliotecas da UFF iniciado. Digite sua pergunta ou 'sair' para encerrar.\n",
            "Você: Como posso me cadastrar?\n",
            "Chatbot: Para se cadastrar, alunos, professores e servidores da UFF podem\n",
            "preencher um formulário online no Portal de Bibliotecas da UFF.\n",
            "Usuários da Creche e do Coluni devem ir diretamente às bibliotecas\n",
            "responsáveis (BFP e BML). O formulário solicita nome completo, e-mail,\n",
            "tipo de vínculo, comprovante de inscrição, telefone, endereço, RG,\n",
            "CPF, data de nascimento, nacionalidade e curso.  É necessário declarar\n",
            "que as informações são válidas e que os dados serão usados no\n",
            "Pergamum-UFF para acesso aos serviços online das bibliotecas.\n",
            "Você: sair\n",
            "Chatbot encerrado.\n"
          ]
        }
      ]
    }
  ]
}